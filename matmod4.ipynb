{
  "cells":[
    {
      "cell_type":"code",
      "source":[
        "import random\n",
        "from itertools import combinations"
      ],
      "execution_count":1,
      "outputs":[
        
      ],
      "metadata":{
        
      }
    },
    {
      "cell_type":"markdown",
      "source":[
        "## Имитационная модель сети Петри"
      ],
      "attachments":{
        
      },
      "metadata":{
        
      }
    },
    {
      "cell_type":"code",
      "source":[
        "class PetriNet:\n",
        "    def __init__(self, transitions, marking):\n",
        "        self.places = list([Place(m, i) for i, m in enumerate(marking)])\n",
        "        self.transitions = list([\n",
        "            Transition(\n",
        "                [OutArc(self.places[i]) for i in outs], \n",
        "                [InArc(self.places[i]) for i in ins]) \n",
        "            for outs, ins in transitions\n",
        "        ])\n",
        "        self.finished = False\n",
        "        self.markings = [self.get_marking()]\n",
        "\n",
        "    def get_marking(self):\n",
        "        return [x.holding for x in self.places]\n",
        "\n",
        "    def run(self, verbose=False):\n",
        "        i = 0\n",
        "        while not self.finished and i < 25:\n",
        "            current_marking = self._run_once(verbose)\n",
        "            if not current_marking:\n",
        "                self.finished = True\n",
        "                break\n",
        "            yield current_marking\n",
        "            i += 1\n",
        "\n",
        "    def _run_once(self, verbose):\n",
        "        fired_transitions = set()\n",
        "        while len(fired_transitions) < len(self.transitions):\n",
        "            t_num = random.randint(0, len(self.transitions) - 1)\n",
        "            t = self.transitions[t_num]\n",
        "            if t.fire():\n",
        "                if verbose:\n",
        "                    print(f\"Firing transition #{t_num}: {t}\")\n",
        "                    print(f\"Current marking {self.get_marking()}\")\n",
        "                return self.get_marking()\n",
        "            else:\n",
        "                fired_transitions.add(t_num)\n",
        "        return None\n",
        "\n",
        "\n",
        "class Transition:\n",
        "    def __init__(self, out_arcs, in_arcs):\n",
        "        self.out_arcs = set(out_arcs)\n",
        "        self.in_arcs = set(in_arcs)\n",
        "        self.arcs = self.out_arcs.union(in_arcs)\n",
        "\n",
        "    def fire(self):\n",
        "        if self.not_blocked():\n",
        "            for arc in self.arcs:\n",
        "                arc.trigger()\n",
        "            return True\n",
        "        return False\n",
        "\n",
        "    def not_blocked(self):\n",
        "        return all(arc.non_blocking() for arc in self.out_arcs)\n",
        "\n",
        "    def get_out_arc(self, place):\n",
        "        return [a for a in self.out_arcs if a.place == place][0]\n",
        "\n",
        "    def get_in_arc(self, place):\n",
        "        return [a for a in self.in_arcs if a.place == place][0]\n",
        "\n",
        "    def __str__(self):\n",
        "        return f\"{list(self.out_arcs)} -> {list(self.in_arcs)}\"\n",
        "\n",
        "    __repr__ = __str__\n",
        "\n",
        "\n",
        "class Place:\n",
        "    def __init__(self, holding, id=None):\n",
        "        self.holding = holding\n",
        "        self.id = id\n",
        "\n",
        "    def __str__(self):\n",
        "        return f\"#{self.id}({self.holding})\"\n",
        "\n",
        "    __repr__ = __str__\n",
        "\n",
        "\n",
        "class Arc:\n",
        "    def __init__(self, place: Place, amount=1):\n",
        "        self.place = place\n",
        "        self.amount = amount\n",
        "\n",
        "    def __str__(self):\n",
        "        return f\"{self.place}\" + (f\"[{self.amount}]\" if self.amount > 1 else \"\")\n",
        "\n",
        "    __repr__ = __str__\n",
        "\n",
        "\n",
        "class OutArc(Arc):\n",
        "    def trigger(self):\n",
        "        self.place.holding -= self.amount\n",
        "\n",
        "    def non_blocking(self):\n",
        "        return self.place.holding >= self.amount\n",
        "\n",
        "\n",
        "class InArc(Arc):\n",
        "    def trigger(self):\n",
        "        self.place.holding += self.amount"
      ],
      "execution_count":2,
      "outputs":[
        
      ],
      "metadata":{
        
      }
    },
    {
      "cell_type":"markdown",
      "source":[
        "## Исследуемые сети\n",
        "\n",
        "1) ![alt text](https:\/\/imgur.com\/uVBQESS.png)\n",
        "   \n",
        "   \n",
        "2) ![alt text](https:\/\/imgur.com\/2311NKm.png)"
      ],
      "attachments":{
        
      },
      "metadata":{
        
      }
    },
    {
      "cell_type":"code",
      "source":[
        "# 1\n",
        "marking1 = [0, 0, 1, 1, 0]\n",
        "transitions1 = [\n",
        "    ([3], [0]),\n",
        "    ([2], [1]),\n",
        "    ([0, 1], [2, 3]),\n",
        "    ([3], [4])\n",
        "]"
      ],
      "execution_count":3,
      "outputs":[
        
      ],
      "metadata":{
        
      }
    },
    {
      "cell_type":"code",
      "source":[
        "#2\n",
        "marking2 = [1, 0, 0, 0, 0, 1]\n",
        "transitions2 = [\n",
        "    ([0], [1, 2, 5]),\n",
        "    ([1], [3]),\n",
        "    ([2], [4]),\n",
        "    ([3, 4, 5], [0])\n",
        "]"
      ],
      "execution_count":4,
      "outputs":[
        
      ],
      "metadata":{
        
      }
    },
    {
      "cell_type":"markdown",
      "source":[
        "## Характеристики сети Петри\n",
        "\n",
        "### Ограниченность"
      ],
      "attachments":{
        
      },
      "metadata":{
        
      }
    },
    {
      "cell_type":"code",
      "source":[
        "def bounded_with(net: PetriNet):\n",
        "    markings = [net.get_marking()]\n",
        "    markings += [m for m in net.run()]\n",
        "    return max([max(m) for m in markings])"
      ],
      "execution_count":5,
      "outputs":[
        
      ],
      "metadata":{
        
      }
    },
    {
      "cell_type":"code",
      "source":[
        "print(bounded_with(PetriNet(transitions1, marking1)))"
      ],
      "execution_count":6,
      "outputs":[
        {
          "name":"stdout",
          "text":[
            "1\n"
          ],
          "output_type":"stream"
        }
      ],
      "metadata":{
        
      }
    },
    {
      "cell_type":"markdown",
      "source":[
        "### Безопасность"
      ],
      "attachments":{
        
      },
      "metadata":{
        
      }
    },
    {
      "cell_type":"code",
      "source":[
        "def is_safe(net: PetriNet):\n",
        "    return bounded_with(net) == 1"
      ],
      "execution_count":7,
      "outputs":[
        
      ],
      "metadata":{
        
      }
    },
    {
      "cell_type":"code",
      "source":[
        "print(is_safe(PetriNet(transitions1, marking1)))"
      ],
      "execution_count":8,
      "outputs":[
        {
          "name":"stdout",
          "text":[
            "True\n"
          ],
          "output_type":"stream"
        }
      ],
      "metadata":{
        
      }
    },
    {
      "cell_type":"markdown",
      "source":[
        "### Консервативность"
      ],
      "attachments":{
        
      },
      "metadata":{
        
      }
    },
    {
      "cell_type":"code",
      "source":[
        "def is_conservative(net: PetriNet):\n",
        "    s0 = sum(net.get_marking())\n",
        "    for marking in net.run():\n",
        "        s = sum(marking)\n",
        "        if s != s0: return False\n",
        "    return True"
      ],
      "execution_count":9,
      "outputs":[
        
      ],
      "metadata":{
        
      }
    },
    {
      "cell_type":"code",
      "source":[
        "print(is_conservative(PetriNet(transitions1, marking1)))"
      ],
      "execution_count":10,
      "outputs":[
        {
          "name":"stdout",
          "text":[
            "True\n"
          ],
          "output_type":"stream"
        }
      ],
      "metadata":{
        
      }
    },
    {
      "cell_type":"markdown",
      "source":[
        "### Живая \/ не живая"
      ],
      "attachments":{
        
      },
      "metadata":{
        
      }
    },
    {
      "cell_type":"code",
      "source":[
        "def is_alive(net: PetriNet):\n",
        "    for _ in net.run(): pass\n",
        "    return not net.finished"
      ],
      "execution_count":11,
      "outputs":[
        
      ],
      "metadata":{
        
      }
    },
    {
      "cell_type":"code",
      "source":[
        "print(is_alive(PetriNet(transitions1, marking1)))"
      ],
      "execution_count":12,
      "outputs":[
        {
          "name":"stdout",
          "text":[
            "False\n"
          ],
          "output_type":"stream"
        }
      ],
      "metadata":{
        
      }
    },
    {
      "cell_type":"markdown",
      "source":[
        "### Параллельность"
      ],
      "attachments":{
        
      },
      "metadata":{
        
      }
    },
    {
      "cell_type":"code",
      "source":[
        "def check_parralel(net: PetriNet):\n",
        "    not_blocked_ts = [t for t in net.transitions if t.not_blocked()]\n",
        "    if len(not_blocked_ts) <= 1:\n",
        "        return False\n",
        "    for t1, t2 in combinations(not_blocked_ts, 2):\n",
        "        places1 = set(place for place in t1.out_arcs)\n",
        "        places2 = set(place for place in t2.out_arcs)\n",
        "        if places1 != places2:\n",
        "            return True\n",
        "        mutual_places = places1.intersection(places2)\n",
        "        if all(p.holding >= t1.get_out_arc(p).amount + t2.get_out_arc(p).amount for p in mutual_places):\n",
        "            return True\n",
        "    return False\n",
        "\n",
        "def is_parallel(net: PetriNet):\n",
        "    if check_parralel(net):\n",
        "        return True\n",
        "    for _ in net.run():\n",
        "        if check_parralel(net):\n",
        "            return True\n",
        "    return False"
      ],
      "execution_count":13,
      "outputs":[
        
      ],
      "metadata":{
        
      }
    },
    {
      "cell_type":"code",
      "source":[
        "print(is_parallel(PetriNet(transitions1, marking1)))"
      ],
      "execution_count":14,
      "outputs":[
        {
          "name":"stdout",
          "text":[
            "True\n"
          ],
          "output_type":"stream"
        }
      ],
      "metadata":{
        
      }
    },
    {
      "cell_type":"markdown",
      "source":[
        "### Свободного выбора"
      ],
      "attachments":{
        
      },
      "metadata":{
        
      }
    },
    {
      "cell_type":"code",
      "source":[
        "def is_free_choice(net: PetriNet):\n",
        "    for t1, t2 in combinations(net.transitions, 2):\n",
        "        places1 = set(arc.place for arc in t1.out_arcs)\n",
        "        places2 = set(arc.place for arc in t2.out_arcs)\n",
        "        if places1.intersection(places2):\n",
        "            return True\n",
        "    return False"
      ],
      "execution_count":15,
      "outputs":[
        
      ],
      "metadata":{
        
      }
    },
    {
      "cell_type":"code",
      "source":[
        "print(is_free_choice(PetriNet(transitions1, marking1)))"
      ],
      "execution_count":16,
      "outputs":[
        {
          "name":"stdout",
          "text":[
            "True\n"
          ],
          "output_type":"stream"
        }
      ],
      "metadata":{
        
      }
    },
    {
      "cell_type":"markdown",
      "source":[
        "### Маркированная"
      ],
      "attachments":{
        
      },
      "metadata":{
        
      }
    },
    {
      "cell_type":"code",
      "source":[
        "def is_marked(net: PetriNet):\n",
        "    for place in net.places:\n",
        "        in_arcs = [a for t in net.transitions \n",
        "            for a in t.in_arcs if a.place == place]\n",
        "        out_arcs = [a for t in net.transitions \n",
        "            for a in t.out_arcs if a.place == place]\n",
        "        if len(out_arcs) != len(in_arcs) != 1:\n",
        "            return False\n",
        "    return True"
      ],
      "execution_count":17,
      "outputs":[
        
      ],
      "metadata":{
        
      }
    },
    {
      "cell_type":"code",
      "source":[
        "print(is_free_choice(PetriNet(transitions1, marking1)))"
      ],
      "execution_count":18,
      "outputs":[
        {
          "name":"stdout",
          "text":[
            "True\n"
          ],
          "output_type":"stream"
        }
      ],
      "metadata":{
        
      }
    },
    {
      "cell_type":"markdown",
      "source":[
        "### Полное исследование сети #1\n",
        "\n",
        "![](https:\/\/imgur.com\/uVBQESS.png)"
      ],
      "attachments":{
        
      },
      "metadata":{
        
      }
    },
    {
      "cell_type":"code",
      "source":[
        "def net1():\n",
        "    return PetriNet(transitions1, marking1)\n",
        "\n",
        "for _ in net1().run(verbose=True): pass\n",
        "\n",
        "print()\n",
        "print(f\"К-bounded: {bounded_with(net1())}\")\n",
        "print(f\"Is safe: {is_safe(net1())}\")\n",
        "print(f\"Is conservative: {is_conservative(net1())}\")\n",
        "print(f\"Is alive: {is_alive(net1())}\")\n",
        "print(f\"Is parallel: {is_parallel(net1())}\")\n",
        "print(f\"Is free choice: {is_free_choice(net1())}\")\n",
        "print(f\"Is marked: {is_marked(net1())}\")"
      ],
      "execution_count":19,
      "outputs":[
        {
          "name":"stdout",
          "text":[
            "Firing transition #1: [#2(0)] -> [#1(1)]\n",
            "Current marking [0, 1, 0, 1, 0]\n",
            "Firing transition #0: [#3(0)] -> [#0(1)]\n",
            "Current marking [1, 1, 0, 0, 0]\n",
            "Firing transition #2: [#1(0), #0(0)] -> [#2(1), #3(1)]\n",
            "Current marking [0, 0, 1, 1, 0]\n",
            "Firing transition #1: [#2(0)] -> [#1(1)]\n",
            "Current marking [0, 1, 0, 1, 0]\n",
            "Firing transition #0: [#3(0)] -> [#0(1)]\n",
            "Current marking [1, 1, 0, 0, 0]\n",
            "Firing transition #2: [#1(0), #0(0)] -> [#2(1), #3(1)]\n",
            "Current marking [0, 0, 1, 1, 0]\n",
            "Firing transition #0: [#3(0)] -> [#0(1)]\n",
            "Current marking [1, 0, 1, 0, 0]\n",
            "Firing transition #1: [#2(0)] -> [#1(1)]\n",
            "Current marking [1, 1, 0, 0, 0]\n",
            "Firing transition #2: [#1(0), #0(0)] -> [#2(1), #3(1)]\n",
            "Current marking [0, 0, 1, 1, 0]\n",
            "Firing transition #1: [#2(0)] -> [#1(1)]\n",
            "Current marking [0, 1, 0, 1, 0]\n",
            "Firing transition #3: [#3(0)] -> [#4(1)]\n",
            "Current marking [0, 1, 0, 0, 1]\n",
            "\n",
            "К-bounded: 1\n",
            "Is safe: True\n",
            "Is conservative: True\n",
            "Is alive: False\n",
            "Is parallel: True\n",
            "Is free choice: True\n",
            "Is marked: True\n"
          ],
          "output_type":"stream"
        }
      ],
      "metadata":{
        
      }
    },
    {
      "cell_type":"markdown",
      "source":[
        "### Полное исследование сети #2\n",
        "\n",
        "![](https:\/\/imgur.com\/2311NKm.png)"
      ],
      "attachments":{
        
      },
      "metadata":{
        
      }
    },
    {
      "cell_type":"code",
      "source":[
        "def net2():\n",
        "    return PetriNet(transitions2, marking2)\n",
        "\n",
        "for _ in net2().run(verbose=True): pass\n",
        "\n",
        "print()\n",
        "print(f\"К-bounded: {bounded_with(net2())}\")\n",
        "print(f\"Is safe: {is_safe(net2())}\")\n",
        "print(f\"Is conservative: {is_conservative(net2())}\")\n",
        "print(f\"Is alive: {is_alive(net2())}\")\n",
        "print(f\"Is parallel: {is_parallel(net2())}\")\n",
        "print(f\"Is free choice: {is_free_choice(net2())}\")\n",
        "print(f\"Is marked: {is_marked(net2())}\")"
      ],
      "execution_count":20,
      "outputs":[
        {
          "name":"stdout",
          "text":[
            "Firing transition #0: [#0(0)] -> [#1(1), #2(1), #5(2)]\n",
            "Current marking [0, 1, 1, 0, 0, 2]\n",
            "Firing transition #1: [#1(0)] -> [#3(1)]\n",
            "Current marking [0, 0, 1, 1, 0, 2]\n",
            "Firing transition #2: [#2(0)] -> [#4(1)]\n",
            "Current marking [0, 0, 0, 1, 1, 2]\n",
            "Firing transition #3: [#5(1), #4(0), #3(0)] -> [#0(1)]\n",
            "Current marking [1, 0, 0, 0, 0, 1]\n",
            "Firing transition #0: [#0(0)] -> [#1(1), #2(1), #5(2)]\n",
            "Current marking [0, 1, 1, 0, 0, 2]\n",
            "Firing transition #2: [#2(0)] -> [#4(1)]\n",
            "Current marking [0, 1, 0, 0, 1, 2]\n",
            "Firing transition #1: [#1(0)] -> [#3(1)]\n",
            "Current marking [0, 0, 0, 1, 1, 2]\n",
            "Firing transition #3: [#5(1), #4(0), #3(0)] -> [#0(1)]\n",
            "Current marking [1, 0, 0, 0, 0, 1]\n",
            "Firing transition #0: [#0(0)] -> [#1(1), #2(1), #5(2)]\n",
            "Current marking [0, 1, 1, 0, 0, 2]\n",
            "Firing transition #2: [#2(0)] -> [#4(1)]\n",
            "Current marking [0, 1, 0, 0, 1, 2]\n",
            "Firing transition #1: [#1(0)] -> [#3(1)]\n",
            "Current marking [0, 0, 0, 1, 1, 2]\n",
            "Firing transition #3: [#5(1), #4(0), #3(0)] -> [#0(1)]\n",
            "Current marking [1, 0, 0, 0, 0, 1]\n",
            "Firing transition #0: [#0(0)] -> [#1(1), #2(1), #5(2)]\n",
            "Current marking [0, 1, 1, 0, 0, 2]\n",
            "Firing transition #1: [#1(0)] -> [#3(1)]\n",
            "Current marking [0, 0, 1, 1, 0, 2]\n",
            "Firing transition #2: [#2(0)] -> [#4(1)]\n",
            "Current marking [0, 0, 0, 1, 1, 2]\n",
            "Firing transition #3: [#5(1), #4(0), #3(0)] -> [#0(1)]\n",
            "Current marking [1, 0, 0, 0, 0, 1]\n",
            "Firing transition #0: [#0(0)] -> [#1(1), #2(1), #5(2)]\n",
            "Current marking [0, 1, 1, 0, 0, 2]\n",
            "Firing transition #1: [#1(0)] -> [#3(1)]\n",
            "Current marking [0, 0, 1, 1, 0, 2]\n",
            "Firing transition #2: [#2(0)] -> [#4(1)]\n",
            "Current marking [0, 0, 0, 1, 1, 2]\n",
            "Firing transition #3: [#5(1), #4(0), #3(0)] -> [#0(1)]\n",
            "Current marking [1, 0, 0, 0, 0, 1]\n",
            "Firing transition #0: [#0(0)] -> [#1(1), #2(1), #5(2)]\n",
            "Current marking [0, 1, 1, 0, 0, 2]\n",
            "Firing transition #2: [#2(0)] -> [#4(1)]\n",
            "Current marking [0, 1, 0, 0, 1, 2]\n",
            "Firing transition #1: [#1(0)] -> [#3(1)]\n",
            "Current marking [0, 0, 0, 1, 1, 2]\n",
            "Firing transition #3: [#5(1), #4(0), #3(0)] -> [#0(1)]\n",
            "Current marking [1, 0, 0, 0, 0, 1]\n",
            "Firing transition #0: [#0(0)] -> [#1(1), #2(1), #5(2)]\n",
            "Current marking [0, 1, 1, 0, 0, 2]\n",
            "\n",
            "К-bounded: 2\n",
            "Is safe: False\n",
            "Is conservative: False\n",
            "Is alive: True\n",
            "Is parallel: True\n",
            "Is free choice: False\n",
            "Is marked: True\n"
          ],
          "output_type":"stream"
        }
      ],
      "metadata":{
        
      }
    },
    {
      "cell_type":"code",
      "source":[
        "marking = []\n",
        "transitions = []\n",
        "try:\n",
        "    net_number = int(input('Choose a net (1-2): '))\n",
        "    if net_number == 1:\n",
        "        marking = [0, 0, 1, 1, 0]\n",
        "        transitions = [\n",
        "            ([3], [0]),\n",
        "            ([2], [1]),\n",
        "            ([0, 1], [2, 3]),\n",
        "            ([3], [4])\n",
        "        ]\n",
        "    elif net_number == 2:\n",
        "        marking = [1, 0, 0, 0, 0, 1]\n",
        "        transitions = [\n",
        "            ([0], [1, 2, 5]),\n",
        "            ([1], [3]),\n",
        "            ([2], [4]),\n",
        "            ([3, 4, 5], [0])\n",
        "        ]\n",
        "    else:\n",
        "        raise Exception('Net not found')\n",
        "except Exception:\n",
        "    print('Input error')\n",
        "    exit(0)\n",
        "\n",
        "print(marking)\n",
        "print(transitions)\n",
        "while True:\n",
        "    print('\\nUpdate marking - 1,\\n'\n",
        "          'Add new position - 2,\\n'\n",
        "          'Add new transition - 3,\\n'\n",
        "          'Add In arc to a transition - 4,\\n'\n",
        "          'Add Out arc to a transition - 5,\\n'\n",
        "          'Remove transition - 6, \\n'\n",
        "          'Run current net - 7,\\n'\n",
        "          'Exit - 0: ')\n",
        "    add_answer = input()\n",
        "    try:\n",
        "        # Updating marking\n",
        "        if add_answer == '1':\n",
        "            print(f'Current marking: {marking}')\n",
        "            print(f'Enter: \\n1. Position number (0-{len(marking) - 1}), \\n2. Number of marks: ')\n",
        "            m_index, m_count = input().split(',')\n",
        "            marking[int(m_index)] = int(m_count)\n",
        "            print(f'New marking: {marking}')\n",
        "            print(f'Current net: {transitions}\\n')\n",
        "\n",
        "        # Adding position\n",
        "        elif add_answer == '2':\n",
        "            marking.append(0)\n",
        "            print(f'Current marking: {marking}')\n",
        "            print(f'Current net: {transitions}\\n')\n",
        "\n",
        "        # Adding transition\n",
        "        elif add_answer == '3':\n",
        "            print(f\"Enter list of In positions for new transition (0-{len(marking) - 1})\")\n",
        "            v_in = [int(x) for x in input().split(\",\")]\n",
        "\n",
        "            print(f\"Enter list of Out positions for new transition (0-{len(marking) - 1})\")\n",
        "            v_out = [int(x) for x in input().split(\",\")]\n",
        "\n",
        "            transitions.append((v_in, v_out))\n",
        "            print(f'Current marking: {marking}')\n",
        "            print(f'Current net: {transitions}\\n')\n",
        "\n",
        "        # Adding In arc to transition\n",
        "        elif add_answer == '4':\n",
        "            print(f\"Enter index of transition (0-{len(transitions) - 1})\")\n",
        "            t_index = int(input())\n",
        "\n",
        "            print(f\"Enter index of position (0-{len(marking) - 1})\")\n",
        "            p_index = int(input())\n",
        "\n",
        "            transitions[t_index][0].append(p_index)\n",
        "            print(f'Curernt marking: {marking}')\n",
        "            print(f'Current net: {transitions}\\n')\n",
        "            \n",
        "        # Adding Out arc to transition\n",
        "        elif add_answer == '5':\n",
        "            print(f\"Enter index of transition (0-{len(transitions) - 1})\")\n",
        "            t_index = int(input())\n",
        "\n",
        "            print(f\"Enter index of position (0-{len(marking) - 1})\")\n",
        "            p_index = int(input())\n",
        "\n",
        "            transitions[t_index][1].append(p_index)\n",
        "            print(f'Curernt marking: {marking}')\n",
        "            print(f'Current net: {transitions}\\n')\n",
        "\n",
        "        # Removing transition\n",
        "        elif add_answer == '6':\n",
        "            print(f\"Enter index of transition (0-{len(transitions) - 1})\")\n",
        "            t_index = int(input())\n",
        "            transitions.pop(t_index)\n",
        "            \n",
        "        # Running net\n",
        "        elif add_answer == '7':\n",
        "            def net():\n",
        "                return PetriNet(transitions, marking)\n",
        "\n",
        "            for _ in net().run(verbose=True): pass\n",
        "                \n",
        "            print()\n",
        "            print(f\"К-bounded: {bounded_with(net())}\")\n",
        "            print(f\"Is safe: {is_safe(net())}\")\n",
        "            print(f\"Is conservative: {is_conservative(net())}\")\n",
        "            print(f\"Is alive: {is_alive(net())}\")\n",
        "            print(f\"Is parallel: {is_parallel(net())}\")\n",
        "            print(f\"Is free choice: {is_free_choice(net())}\")\n",
        "            print(f\"Is marked: {is_marked(net())}\")\n",
        "\n",
        "        # Exit\n",
        "        elif add_answer == '0':\n",
        "            exit(0)\n",
        "\n",
        "    except Exception:\n",
        "        print('Input error')\n",
        "        continue"
      ],
      "execution_count":0,
      "outputs":[
        
      ],
      "metadata":{
        
      }
    }
  ],
  "metadata":{
    
  },
  "nbformat":4,
  "nbformat_minor":0
}